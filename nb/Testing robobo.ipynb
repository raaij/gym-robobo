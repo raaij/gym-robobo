{
 "cells": [
  {
   "cell_type": "code",
   "execution_count": 135,
   "id": "revised-understanding",
   "metadata": {},
   "outputs": [],
   "source": [
    "import numpy as np \n",
    "import math"
   ]
  },
  {
   "cell_type": "code",
   "execution_count": 1,
   "id": "mighty-power",
   "metadata": {},
   "outputs": [
    {
     "name": "stderr",
     "output_type": "stream",
     "text": [
      "Hardware Connection not available in python3 :(\n"
     ]
    }
   ],
   "source": [
    "import robobo"
   ]
  },
  {
   "cell_type": "code",
   "execution_count": 2,
   "id": "interested-suggestion",
   "metadata": {},
   "outputs": [
    {
     "name": "stdout",
     "output_type": "stream",
     "text": [
      "Connected to remote API server: client id 0\n"
     ]
    }
   ],
   "source": [
    "robobo = robobo.SimulationRobobo().connect()"
   ]
  },
  {
   "cell_type": "code",
   "execution_count": 5,
   "id": "ranking-integer",
   "metadata": {},
   "outputs": [],
   "source": [
    "robobo.play_simulation()"
   ]
  },
  {
   "cell_type": "markdown",
   "id": "injured-international",
   "metadata": {},
   "source": [
    "# States"
   ]
  },
  {
   "cell_type": "markdown",
   "id": "awful-player",
   "metadata": {},
   "source": [
    "## Sensor Readings"
   ]
  },
  {
   "cell_type": "markdown",
   "id": "mounted-wallace",
   "metadata": {},
   "source": [
    "The Robobo has 8 sensors from which data can be obtained. The array returned is in the format\n",
    "```\n",
    "[backR, backC, backL, frontRR, frontR, frontC, frontL, frontLL]\n",
    "```"
   ]
  },
  {
   "cell_type": "code",
   "execution_count": 228,
   "id": "middle-startup",
   "metadata": {},
   "outputs": [
    {
     "data": {
      "text/plain": [
       "[False, False, False, False, False, False, False, False]"
      ]
     },
     "execution_count": 228,
     "metadata": {},
     "output_type": "execute_result"
    }
   ],
   "source": [
    "readings = robobo.read_irs()\n",
    "readings"
   ]
  },
  {
   "cell_type": "markdown",
   "id": "golden-radar",
   "metadata": {},
   "source": [
    "## Camera Images"
   ]
  },
  {
   "cell_type": "code",
   "execution_count": 71,
   "id": "laughing-manufacturer",
   "metadata": {},
   "outputs": [],
   "source": [
    "def imshow(img):\n",
    "    # https://gist.github.com/ctmakro/3ae3cd9538390b706820cd01dac6861f\n",
    "    # image is in format [height, width, channels]\n",
    "    import cv2\n",
    "    import IPython\n",
    "    _,ret = cv2.imencode('.jpg', img) \n",
    "    i = IPython.display.Image(data=ret)\n",
    "    IPython.display.display(i)"
   ]
  },
  {
   "cell_type": "code",
   "execution_count": 73,
   "id": "modern-continent",
   "metadata": {},
   "outputs": [
    {
     "data": {
      "image/png": "[encoded data removed]",
      "text/plain": [
       "<IPython.core.display.Image object>"
      ]
     },
     "metadata": {},
     "output_type": "display_data"
    }
   ],
   "source": [
    "image = robobo.get_image_front()\n",
    "imshow(image)"
   ]
  },
  {
   "cell_type": "markdown",
   "id": "compact-botswana",
   "metadata": {},
   "source": [
    "## Position"
   ]
  },
  {
   "cell_type": "markdown",
   "id": "sonic-compensation",
   "metadata": {},
   "source": [
    "(x,y,z) coordinates of the Robobo"
   ]
  },
  {
   "cell_type": "code",
   "execution_count": 183,
   "id": "herbal-antibody",
   "metadata": {},
   "outputs": [
    {
     "data": {
      "text/plain": [
       "[1.9545748233795166, 1.0645506381988525, 0.03711538389325142]"
      ]
     },
     "execution_count": 183,
     "metadata": {},
     "output_type": "execute_result"
    }
   ],
   "source": [
    "robobo.position()"
   ]
  },
  {
   "cell_type": "markdown",
   "id": "unable-forward",
   "metadata": {},
   "source": [
    "## Food"
   ]
  },
  {
   "cell_type": "code",
   "execution_count": 174,
   "id": "enclosed-beginning",
   "metadata": {},
   "outputs": [],
   "source": [
    "# robobo.collected_food()"
   ]
  },
  {
   "cell_type": "markdown",
   "id": "caring-union",
   "metadata": {},
   "source": [
    "# Actions"
   ]
  },
  {
   "cell_type": "markdown",
   "id": "hungry-cassette",
   "metadata": {},
   "source": [
    "## Moving the Robobo"
   ]
  },
  {
   "cell_type": "code",
   "execution_count": 235,
   "id": "unlikely-aaron",
   "metadata": {},
   "outputs": [],
   "source": [
    "# Forward movement\n",
    "robobo.move(100, 100, 10)"
   ]
  },
  {
   "cell_type": "code",
   "execution_count": 156,
   "id": "third-therapy",
   "metadata": {},
   "outputs": [],
   "source": [
    "# Turn left\n",
    "robobo.move(-30, 30, 1000)"
   ]
  },
  {
   "cell_type": "code",
   "execution_count": 170,
   "id": "central-preview",
   "metadata": {},
   "outputs": [],
   "source": [
    "# Turn right\n",
    "robobo.move(30, -30, 500)"
   ]
  },
  {
   "cell_type": "code",
   "execution_count": 232,
   "id": "secondary-completion",
   "metadata": {},
   "outputs": [],
   "source": [
    "# Turn backwards\n",
    "robobo.move(-30, -30, 1000)"
   ]
  },
  {
   "cell_type": "code",
   "execution_count": 238,
   "id": "cardiovascular-enlargement",
   "metadata": {},
   "outputs": [
    {
     "data": {
      "text/plain": [
       "[False,\n",
       " False,\n",
       " False,\n",
       " False,\n",
       " False,\n",
       " 0.18619207668232465,\n",
       " 0.19132297514718913,\n",
       " False]"
      ]
     },
     "execution_count": 238,
     "metadata": {},
     "output_type": "execute_result"
    }
   ],
   "source": [
    "readings = robobo.read_irs()\n",
    "readings"
   ]
  },
  {
   "cell_type": "markdown",
   "id": "adopted-cliff",
   "metadata": {},
   "source": [
    "### Moving the camera"
   ]
  },
  {
   "cell_type": "code",
   "execution_count": 146,
   "id": "greenhouse-swing",
   "metadata": {},
   "outputs": [
    {
     "data": {
      "image/png": "[encoded data removed]",
      "text/plain": [
       "<IPython.core.display.Image object>"
      ]
     },
     "metadata": {},
     "output_type": "display_data"
    }
   ],
   "source": [
    "# Move camera down\n",
    "robobo.set_phone_tilt(math.radians(90), 0.1)\n",
    "imshow(robobo.get_image_front())"
   ]
  },
  {
   "cell_type": "code",
   "execution_count": 147,
   "id": "persistent-oxford",
   "metadata": {},
   "outputs": [
    {
     "data": {
      "image/png": "[encoded data removed]",
      "text/plain": [
       "<IPython.core.display.Image object>"
      ]
     },
     "metadata": {},
     "output_type": "display_data"
    }
   ],
   "source": [
    "# Move camera up \n",
    "robobo.set_phone_tilt(math.radians(0), 0.1)\n",
    "imshow(robobo.get_image_front())"
   ]
  },
  {
   "cell_type": "code",
   "execution_count": 150,
   "id": "blocked-rolling",
   "metadata": {},
   "outputs": [
    {
     "data": {
      "image/png": "[encoded data removed]",
      "text/plain": [
       "<IPython.core.display.Image object>"
      ]
     },
     "metadata": {},
     "output_type": "display_data"
    }
   ],
   "source": [
    "# View camera front\n",
    "robobo.set_phone_pan(math.radians(0), 0.1)\n",
    "imshow(robobo.get_image_front())"
   ]
  },
  {
   "cell_type": "code",
   "execution_count": 151,
   "id": "optical-patrol",
   "metadata": {},
   "outputs": [
    {
     "data": {
      "image/png": "[encoded data removed]",
      "text/plain": [
       "<IPython.core.display.Image object>"
      ]
     },
     "metadata": {},
     "output_type": "display_data"
    }
   ],
   "source": [
    "# View camera back\n",
    "robobo.set_phone_pan(math.radians(180), 0.1)\n",
    "imshow(robobo.get_image_front())"
   ]
  },
  {
   "cell_type": "code",
   "execution_count": 251,
   "id": "induced-motivation",
   "metadata": {},
   "outputs": [],
   "source": [
    "class RoboboStateSpace(spaces.Dict):\n",
    "    def __init__(self):\n",
    "        super().__init__(spaces=self.get_spaces())\n",
    "\n",
    "    def get_spaces(self):\n",
    "        return {\n",
    "            'position': spaces.Box(low=-np.inf, high=np.inf, shape=(3,)),\n",
    "            'front_cam': spaces.Box(low=0, high=255, shape=(128, 128, 3), dtype=np.int),\n",
    "            'sensor_readings': spaces.Box(low=0, high=0.2, shape=(8,)),\n",
    "        }\n"
   ]
  },
  {
   "cell_type": "code",
   "execution_count": null,
   "id": "stuffed-depth",
   "metadata": {},
   "outputs": [],
   "source": []
  }
 ],
 "metadata": {
  "kernelspec": {
   "display_name": "Python 3",
   "language": "python",
   "name": "python3"
  },
  "language_info": {
   "codemirror_mode": {
    "name": "ipython",
    "version": 3
   },
   "file_extension": ".py",
   "mimetype": "text/x-python",
   "name": "python",
   "nbconvert_exporter": "python",
   "pygments_lexer": "ipython3",
   "version": "3.8.5"
  }
 },
 "nbformat": 4,
 "nbformat_minor": 5
}
